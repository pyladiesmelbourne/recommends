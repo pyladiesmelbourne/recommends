{
 "cells": [
  {
   "cell_type": "markdown",
   "metadata": {
    "slideshow": {
     "slide_type": "slide"
    }
   },
   "source": [
    "PyLadies Melbourne recommends...\n",
    "=================\n",
    "\n",
    "highlights from PyCon Australia 2017\n",
    "-----------------------------------------"
   ]
  },
  {
   "cell_type": "markdown",
   "metadata": {
    "slideshow": {
     "slide_type": "slide"
    }
   },
   "source": [
    "## DjangoGirls workshop\n",
    "\n",
    "Thanks to Veronica (Common Code) for organising! Next workshop will be November 18th.\n",
    "\n",
    "![DjangoGirls photo](images/djangogirlsworkshopatpyconau2017.jpeg \"DjangoGirls photo from https://twitter.com/commoncode/status/893748304567083008\")\n"
   ]
  },
  {
   "cell_type": "markdown",
   "metadata": {
    "slideshow": {
     "slide_type": "slide"
    }
   },
   "source": [
    "## PyLadies breakfast\n",
    "\n",
    "45-50 people attended, at One Roof coworking space in Southbank. Thanks to PyCon Australia for sponsoring!\n",
    "\n",
    "![Group photo](images/groupshot-breakfast2017.jpg \"Group photo\") ![Brianna and Valeria](images/briannaandvaleria-breakfast2017.jpg \"Brianna and Valeria\")"
   ]
  },
  {
   "cell_type": "markdown",
   "metadata": {
    "slideshow": {
     "slide_type": "slide"
    }
   },
   "source": [
    "## Keynotes!\n",
    "\n",
    "* Can they really do that? - You'll be amazed at what skills our future coders will bring to your team Pip Cleaves [video] \n",
    "* How to handle abandoned projects, Take Two Katie McLaughlin [video] "
   ]
  },
  {
   "cell_type": "markdown",
   "metadata": {
    "slideshow": {
     "slide_type": "slide"
    }
   },
   "source": [
    "## Tutorials\n",
    "\n",
    "* Build Tooling Workshop - Rita Garcia\n",
    "* Practical testing with pytest - Brianna Laugher\n"
   ]
  },
  {
   "cell_type": "markdown",
   "metadata": {
    "slideshow": {
     "slide_type": "slide"
    }
   },
   "source": [
    "## Miniconfs\n",
    "\n",
    "### IoT\n",
    "\n",
    "*  Program all the things - How to develop IoT devices using MicroPython Anna Gerber [video]\n",
    "\n",
    "### Education\n",
    "*  Python to the (Little) People: teaching 300,000 students Python through the DT Curriculum Amanda Hogan [video] \n",
    "*  Python in Primary School Emily de la Pena [video] \n",
    "*  Teaching MicroPython with the BBC micro:bit at NCSS Jim Mussared, Nicky Ringland [video] \n",
    "*  Teaching Python: Adapting to Diversity Margot Phillipps [video] \n",
    "*  Teaching Python Online to Primary Students Marg Meijers [video] \n",
    "\n",
    "### DjangoCon AU\n",
    "* Django & JavaScript: A long and complicated friendship Jen Zajac [video] \n",
    "* hunter2: A Symphony of Password Horror Lilly Ryan [video] \n",
    "\n",
    "### Science and Data\n",
    "*  Visualising data with Python Clare Sloggett [video] \n",
    "*  Improving PySpark Performance: Spark performance beyond the JVM Holden Karau [video] \n"
   ]
  },
  {
   "cell_type": "markdown",
   "metadata": {
    "slideshow": {
     "slide_type": "slide"
    }
   },
   "source": [
    "## Main conference\n",
    "\n",
    "### Saturday\n",
    "\n",
    "* PEP 498: The Monologue Mariatta Wijaya [video] \n",
    "* Concurrency and Parallelism From The Ground Up Amber Brown [video] \n",
    "* Harnessing the APIs you didn't know existed Katie Bell [video] \n",
    "* The Importance of Design: maybe the users aren't wrong? Charelle Collett [video] \n",
    "* Organizing conferences for learners: How we made it work in Namibia Jessica Upani [video] \n",
    "* The Business of Community VM (Vicky) Brasseur [video] \n",
    "\n",
    "### Sunday\n",
    "* When Do We Belong? aurynn shaw [video] \n",
    "* Passing the Baton: Succession planning for your project VM (Vicky) Brasseur [video] \n",
    "* Code Reviews Using Art Critique Principles Stacy Morse [video] \n",
    "* Improving Your Documentation: A talk for developers who want to write stuff good Charelle Collett [video] \n",
    "* Don't Look Back in Anger: Wildman Whitehouse and the Great Failure of 1858 Lilly Ryan [video] "
   ]
  },
  {
   "cell_type": "markdown",
   "metadata": {
    "slideshow": {
     "slide_type": "slide"
    }
   },
   "source": [
    "## Next two years\n",
    "\n",
    "Will be in Sydney! August 24-26. Check out http://2018.pycon-au.org/ for more info as it is published."
   ]
  }
 ],
 "metadata": {
  "celltoolbar": "Slideshow",
  "kernelspec": {
   "display_name": "Python 3",
   "language": "python",
   "name": "python3"
  },
  "language_info": {
   "codemirror_mode": {
    "name": "ipython",
    "version": 3
   },
   "file_extension": ".py",
   "mimetype": "text/x-python",
   "name": "python",
   "nbconvert_exporter": "python",
   "pygments_lexer": "ipython3",
   "version": "3.5.2+"
  }
 },
 "nbformat": 4,
 "nbformat_minor": 2
}
